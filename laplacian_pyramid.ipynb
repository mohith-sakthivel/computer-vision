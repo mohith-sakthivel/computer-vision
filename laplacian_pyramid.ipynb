{
 "cells": [
  {
   "cell_type": "code",
   "execution_count": 25,
   "source": [
    "import cv2\n",
    "import numpy as np"
   ],
   "outputs": [],
   "metadata": {}
  },
  {
   "cell_type": "code",
   "execution_count": 26,
   "source": [
    "FILEPATH = 'joe-biden.jpg'\n",
    "DISPLAY_IMG = True\n",
    "FILTER_SIZE = (45, 45)\n",
    "STD_DEV = 10\n",
    "UPSAMPLE_FILTER = cv2.INTER_LINEAR_EXACT\n",
    "DOWNSAMPLE_FILTER = cv2.INTER_LINEAR_EXACT"
   ],
   "outputs": [],
   "metadata": {}
  },
  {
   "cell_type": "code",
   "execution_count": 27,
   "source": [
    "original_image = cv2.imread(FILEPATH)\n",
    "blur_img  = cv2.GaussianBlur(original_image, FILTER_SIZE, STD_DEV)"
   ],
   "outputs": [],
   "metadata": {}
  },
  {
   "cell_type": "code",
   "execution_count": 28,
   "source": [
    "residual_img = original_image - blur_img\n",
    "downsampled_img = cv2.resize(blur_img, (0, 0), fx=1/2, fy=1/2, interpolation=DOWNSAMPLE_FILTER)\n",
    "# downsampled_img = blur_img[::2, ::2]\n",
    "upsampled_img = cv2.resize(downsampled_img, (0, 0), fx=2, fy=2, interpolation=UPSAMPLE_FILTER)\n",
    "restored_img = upsampled_img + residual_img"
   ],
   "outputs": [],
   "metadata": {}
  },
  {
   "cell_type": "code",
   "execution_count": 29,
   "source": [
    "# Display Original Image\n",
    "if DISPLAY_IMG:\n",
    "    cv2.imshow('output', original_image)\n",
    "    cv2.waitKey(0)\n",
    "    cv2.destroyAllWindows()\n",
    "\n",
    "    # Display Upsampled Image\n",
    "    cv2.imshow('upsampled image', upsampled_img)\n",
    "    cv2.waitKey(0)\n",
    "    cv2.destroyAllWindows()\n",
    "    cv2.imwrite('upsampled.png', upsampled_img)\n",
    "\n",
    "    # Display Residual\n",
    "    cv2.imshow('residual image', residual_img)\n",
    "    cv2.waitKey(0)\n",
    "    cv2.destroyAllWindows()\n",
    "    cv2.imwrite('residual.png', residual_img)\n",
    "\n",
    "    # Display Restored Image\n",
    "    cv2.imshow('restored image', restored_img)\n",
    "    cv2.waitKey(0)\n",
    "    cv2.destroyAllWindows()\n",
    "    cv2.imwrite('restored.png', restored_img)\n",
    "\n",
    "print(f'Error: %0.2f'%(np.linalg.norm(restored_img - original_image)))"
   ],
   "outputs": [],
   "metadata": {}
  }
 ],
 "metadata": {
  "orig_nbformat": 4,
  "language_info": {
   "name": "python",
   "version": "3.8.10",
   "mimetype": "text/x-python",
   "codemirror_mode": {
    "name": "ipython",
    "version": 3
   },
   "pygments_lexer": "ipython3",
   "nbconvert_exporter": "python",
   "file_extension": ".py"
  },
  "kernelspec": {
   "name": "python3",
   "display_name": "Python 3.8.10 64-bit ('aicity': conda)"
  },
  "interpreter": {
   "hash": "9dbd2790e6a6b1801c47988523ff22bc427797d7b09bdc36ad99803f38746c8e"
  }
 },
 "nbformat": 4,
 "nbformat_minor": 2
}